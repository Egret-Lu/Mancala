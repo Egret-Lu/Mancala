{
 "cells": [
  {
   "cell_type": "code",
   "execution_count": 1,
   "id": "859024bf-6c22-4ac8-ab65-89253c336c13",
   "metadata": {},
   "outputs": [],
   "source": [
    "from board import *"
   ]
  },
  {
   "cell_type": "code",
   "execution_count": 2,
   "id": "45d0d9f2-c7a1-446b-b150-0fdfe3a97681",
   "metadata": {},
   "outputs": [],
   "source": [
    "a=initial_game()\n"
   ]
  },
  {
   "cell_type": "code",
   "execution_count": 3,
   "id": "5ac610f2-7799-4fa9-b789-71af67c24750",
   "metadata": {},
   "outputs": [
    {
     "data": {
      "text/plain": [
       "2"
      ]
     },
     "execution_count": 3,
     "metadata": {},
     "output_type": "execute_result"
    }
   ],
   "source": [
    "a=[1,2]\n",
    "a[-1]"
   ]
  },
  {
   "cell_type": "code",
   "execution_count": 4,
   "id": "647ae6f0-c303-4925-97cc-fd8f0d2b8dfb",
   "metadata": {},
   "outputs": [
    {
     "name": "stdout",
     "output_type": "stream",
     "text": [
      "0 ~ |    4||    4||    4||    4||    4||    4|\n",
      "\n",
      "------------------------------------------------------\n",
      "    |    4||    4||    4||    4||    4||    4| ~ 0\n"
     ]
    },
    {
     "data": {
      "text/plain": [
       "1"
      ]
     },
     "execution_count": 4,
     "metadata": {},
     "output_type": "execute_result"
    }
   ],
   "source": [
    "b=Board()\n",
    "b.show_board()\n",
    "b.player"
   ]
  },
  {
   "cell_type": "code",
   "execution_count": 5,
   "id": "63607830-620a-447e-b79a-9a8e05604ce2",
   "metadata": {},
   "outputs": [
    {
     "name": "stdout",
     "output_type": "stream",
     "text": [
      "0 ~ |    4||    5||    5||    5||    5||    0|\n",
      "\n",
      "------------------------------------------------------\n",
      "    |    4||    4||    4||    4||    4||    4| ~ 0\n"
     ]
    }
   ],
   "source": [
    "c,again=b.move(1)\n",
    "c.show_board()"
   ]
  },
  {
   "cell_type": "code",
   "execution_count": 6,
   "id": "3bb0aa3b-e0f0-4585-a6b9-ea220fe25697",
   "metadata": {},
   "outputs": [
    {
     "name": "stdout",
     "output_type": "stream",
     "text": [
      "0 ~ |    4||    5||    5||    5||    5||    1|\n",
      "\n",
      "------------------------------------------------------\n",
      "    |    4||    4||    4||    0||    5||    5| ~ 1\n"
     ]
    },
    {
     "data": {
      "text/plain": [
       "1"
      ]
     },
     "execution_count": 6,
     "metadata": {},
     "output_type": "execute_result"
    }
   ],
   "source": [
    "\n",
    "d,again=c.move(4)\n",
    "d.show_board()\n",
    "d.player"
   ]
  },
  {
   "cell_type": "code",
   "execution_count": 7,
   "id": "5ccc7133-ed4c-4f4e-afbe-982ff8dd1caa",
   "metadata": {},
   "outputs": [
    {
     "name": "stdout",
     "output_type": "stream",
     "text": [
      "1 ~ |    5||    6||    6||    6||    0||    1|\n",
      "\n",
      "------------------------------------------------------\n",
      "    |    4||    4||    4||    0||    5||    5| ~ 1\n"
     ]
    }
   ],
   "source": [
    "d,again=d.move(2)\n",
    "d.show_board()"
   ]
  },
  {
   "cell_type": "code",
   "execution_count": 8,
   "id": "d6e85b54-593a-43a4-a6c4-a853b15e837a",
   "metadata": {},
   "outputs": [
    {
     "name": "stdout",
     "output_type": "stream",
     "text": [
      "7 ~ |    5||    6||    6||    6||    0||    0|\n",
      "\n",
      "------------------------------------------------------\n",
      "    |    4||    4||    4||    0||    0||    5| ~ 1\n"
     ]
    }
   ],
   "source": [
    "d,again=d.move(1)\n",
    "d.show_board()"
   ]
  },
  {
   "cell_type": "code",
   "execution_count": 9,
   "id": "e65cf170-c42c-4780-8f06-313f67a4ee7a",
   "metadata": {},
   "outputs": [
    {
     "name": "stdout",
     "output_type": "stream",
     "text": [
      "7 ~ |    5||    6||    6||    6||    0||    0|\n",
      "\n",
      "------------------------------------------------------\n",
      "    |    4||    4||    0||    1||    1||    6| ~ 2\n"
     ]
    },
    {
     "data": {
      "text/plain": [
       "1"
      ]
     },
     "execution_count": 9,
     "metadata": {},
     "output_type": "execute_result"
    }
   ],
   "source": [
    "d,again=d.move(3)\n",
    "d.show_board()\n",
    "d.again"
   ]
  },
  {
   "cell_type": "code",
   "execution_count": 10,
   "id": "2d41eebd-07fc-4876-a55e-aacc71cfbeed",
   "metadata": {},
   "outputs": [
    {
     "name": "stdout",
     "output_type": "stream",
     "text": [
      "7 ~ |    5||    6||    6||    6||    0||    0|\n",
      "\n",
      "------------------------------------------------------\n",
      "    |    0||    5||    1||    2||    2||    6| ~ 2\n"
     ]
    },
    {
     "data": {
      "text/plain": [
       "0"
      ]
     },
     "execution_count": 10,
     "metadata": {},
     "output_type": "execute_result"
    }
   ],
   "source": [
    "d,again=d.move(1)\n",
    "d.show_board()\n",
    "d.again"
   ]
  },
  {
   "cell_type": "code",
   "execution_count": 13,
   "id": "122e8061-b5a5-4e2d-a7cc-8deb69ec4a5a",
   "metadata": {},
   "outputs": [
    {
     "name": "stdout",
     "output_type": "stream",
     "text": [
      "player 1 move pit 3\n",
      "1 ~ |    5||    5||    5||    0||    4||    4|\n",
      "\n",
      "------------------------------------------------------\n",
      "    |    4||    4||    4||    4||    4||    4| ~ 0\n",
      "player 1 move pit 1\n",
      "1 ~ |    5||    6||    6||    1||    5||    0|\n",
      "\n",
      "------------------------------------------------------\n",
      "    |    4||    4||    4||    4||    4||    4| ~ 0\n",
      "player 2 move pit 3\n",
      "1 ~ |    5||    6||    6||    1||    5||    0|\n",
      "\n",
      "------------------------------------------------------\n",
      "    |    4||    4||    0||    5||    5||    5| ~ 1\n",
      "player 2 move pit 1\n",
      "1 ~ |    5||    6||    6||    1||    5||    0|\n",
      "\n",
      "------------------------------------------------------\n",
      "    |    0||    5||    1||    6||    6||    5| ~ 1\n",
      "player 1 move pit 3\n",
      "1 ~ |    5||    6||    7||    0||    5||    0|\n",
      "\n",
      "------------------------------------------------------\n",
      "    |    0||    5||    1||    6||    6||    5| ~ 1\n",
      "player 2 move pit 2\n",
      "1 ~ |    5||    6||    7||    0||    5||    0|\n",
      "\n",
      "------------------------------------------------------\n",
      "    |    0||    0||    2||    7||    7||    6| ~ 2\n",
      "player 2 move pit 3\n",
      "1 ~ |    5||    6||    7||    0||    5||    0|\n",
      "\n",
      "------------------------------------------------------\n",
      "    |    0||    0||    0||    8||    8||    6| ~ 2\n",
      "player 1 move pit 2\n",
      "2 ~ |    6||    7||    8||    1||    0||    0|\n",
      "\n",
      "------------------------------------------------------\n",
      "    |    0||    0||    0||    8||    8||    6| ~ 2\n",
      "player 1 move pit 3\n",
      "2 ~ |    6||    7||    9||    0||    0||    0|\n",
      "\n",
      "------------------------------------------------------\n",
      "    |    0||    0||    0||    8||    8||    6| ~ 2\n",
      "player 2 move pit 4\n",
      "2 ~ |    6||    8||    10||    1||    1||    1|\n",
      "\n",
      "------------------------------------------------------\n",
      "    |    0||    0||    0||    0||    9||    7| ~ 3\n",
      "player 1 move pit 1\n",
      "2 ~ |    6||    8||    10||    1||    2||    0|\n",
      "\n",
      "------------------------------------------------------\n",
      "    |    0||    0||    0||    0||    9||    7| ~ 3\n",
      "player 2 move pit 6\n",
      "2 ~ |    7||    9||    11||    2||    3||    1|\n",
      "\n",
      "------------------------------------------------------\n",
      "    |    0||    0||    0||    0||    9||    0| ~ 4\n",
      "player 1 move pit 1\n",
      "2 ~ |    7||    9||    11||    2||    4||    0|\n",
      "\n",
      "------------------------------------------------------\n",
      "    |    0||    0||    0||    0||    9||    0| ~ 4\n",
      "player 2 move pit 5\n",
      "3 ~ |    8||    10||    12||    3||    5||    1|\n",
      "\n",
      "------------------------------------------------------\n",
      "    |    0||    0||    0||    0||    0||    1| ~ 5\n",
      "player 1 move pit 1\n",
      "3 ~ |    8||    10||    12||    3||    6||    0|\n",
      "\n",
      "------------------------------------------------------\n",
      "    |    0||    0||    0||    0||    0||    1| ~ 5\n",
      "player 2 move pit 6\n",
      "3 ~ |    8||    10||    12||    3||    6||    0|\n",
      "\n",
      "------------------------------------------------------\n",
      "    |    0||    0||    0||    0||    0||    0| ~ 6\n",
      "Player 1 wins!\n"
     ]
    }
   ],
   "source": [
    "board=Board()\n",
    "is_end=board.get_terminal()\n",
    "while is_end==0:\n",
    "    if board.get_player()==1:\n",
    "        board,is_end=minimax(board)\n",
    "        if is_end==0:\n",
    "            print(board.last_move)\n",
    "            board.show_board()\n",
    "    if board.get_player()==2:\n",
    "        board,is_end=greedy(board)\n",
    "        if is_end==0:\n",
    "            print(board.last_move)\n",
    "            board.show_board()"
   ]
  },
  {
   "cell_type": "code",
   "execution_count": 14,
   "id": "0941d4b2-cc4f-4f72-a18d-5ed5ed835bbd",
   "metadata": {},
   "outputs": [
    {
     "name": "stdout",
     "output_type": "stream",
     "text": [
      "Player 1 wins!\n"
     ]
    }
   ],
   "source": [
    "board=Board()\n",
    "is_end=board.get_terminal()\n",
    "while is_end==0:\n",
    "    if board.get_player()==1:\n",
    "        board,is_end=minimax(board)\n",
    "    if board.get_player()==2:\n",
    "        board,is_end=random(board)\n"
   ]
  },
  {
   "cell_type": "code",
   "execution_count": null,
   "id": "4980ce93-f0f2-4a39-a2a2-6a7da28338a6",
   "metadata": {},
   "outputs": [],
   "source": []
  }
 ],
 "metadata": {
  "kernelspec": {
   "display_name": "Python 3",
   "language": "python",
   "name": "python3"
  },
  "language_info": {
   "codemirror_mode": {
    "name": "ipython",
    "version": 3
   },
   "file_extension": ".py",
   "mimetype": "text/x-python",
   "name": "python",
   "nbconvert_exporter": "python",
   "pygments_lexer": "ipython3",
   "version": "3.8.8"
  }
 },
 "nbformat": 4,
 "nbformat_minor": 5
}
